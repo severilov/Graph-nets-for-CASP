{
 "cells": [
  {
   "cell_type": "markdown",
   "metadata": {},
   "source": [
    "# Архитектуры тестируемых моделей нейросетей (скорее всего сделать в виде обычного файла .py)"
   ]
  },
  {
   "cell_type": "markdown",
   "metadata": {},
   "source": [
    "https://github.com/muhanzhang/pytorch_DGCNN"
   ]
  },
  {
   "cell_type": "markdown",
   "metadata": {},
   "source": [
    "* https://arxiv.org/abs/1812.08434v4\n",
    "* https://github.com/ShiYaya/graph\n"
   ]
  },
  {
   "cell_type": "code",
   "execution_count": null,
   "metadata": {},
   "outputs": [],
   "source": []
  },
  {
   "cell_type": "code",
   "execution_count": null,
   "metadata": {},
   "outputs": [],
   "source": []
  },
  {
   "cell_type": "markdown",
   "metadata": {},
   "source": [
    "На основе https://arxiv.org/pdf/1606.09375.pdf"
   ]
  },
  {
   "cell_type": "code",
   "execution_count": null,
   "metadata": {},
   "outputs": [],
   "source": []
  },
  {
   "cell_type": "code",
   "execution_count": 1,
   "metadata": {},
   "outputs": [],
   "source": [
    "import torch\n",
    "from torch.autograd import Variable\n",
    "import torch.nn.functional as F\n",
    "import torch.nn as nn\n",
    "import torch.optim as optim\n",
    "import torch.optim.lr_scheduler as lr_scheduler\n",
    "\n",
    "import pdb\n",
    "from biopandas.pdb import PandasPdb\n",
    "ppdb = PandasPdb()\n",
    "\n",
    "import os\n",
    "import time\n",
    "import numpy as np\n",
    "#import scipy\n",
    "from scipy import sparse \n",
    "from scipy.sparse import linalg\n",
    "#from tqdm.auto import tqdm\n",
    "from tqdm import tqdm"
   ]
  },
  {
   "cell_type": "code",
   "execution_count": 46,
   "metadata": {},
   "outputs": [],
   "source": [
    "%matplotlib inline\n",
    "import matplotlib as mpl\n",
    "import matplotlib.pyplot as plt\n",
    "mpl.style.use('seaborn-poster')\n",
    "plt.rc('font', size=15)          # controls default text sizes\n",
    "plt.rc('axes', titlesize=15)     # fontsize of the axes title\n",
    "plt.rc('axes', labelsize=15)    # fontsize of the x and y labels\n",
    "plt.rc('xtick', labelsize=15)    # fontsize of the tick labels\n",
    "plt.rc('ytick', labelsize=15)    # fontsize of the tick labels"
   ]
  },
  {
   "cell_type": "code",
   "execution_count": 3,
   "metadata": {},
   "outputs": [
    {
     "name": "stdout",
     "output_type": "stream",
     "text": [
      "cuda not available\n",
      "device = cpu\n"
     ]
    }
   ],
   "source": [
    "import collections\n",
    "\n",
    "if torch.cuda.is_available():\n",
    "    print('cuda available')\n",
    "    dtypeFloat = torch.cuda.FloatTensor\n",
    "    dtypeLong = torch.cuda.LongTensor\n",
    "    torch.cuda.manual_seed(1)\n",
    "else:\n",
    "    print('cuda not available')\n",
    "    dtypeFloat = torch.FloatTensor\n",
    "    dtypeLong = torch.LongTensor\n",
    "    torch.manual_seed(1)\n",
    "    \n",
    "device = torch.device('cuda' if torch.cuda.is_available() else 'cpu')\n",
    "print('device = {}'.format(device))"
   ]
  },
  {
   "cell_type": "markdown",
   "metadata": {},
   "source": [
    "X – coordinates\n",
    "\n",
    "A – adjacency matrices\n",
    "\n",
    "y – cad-scores\n",
    "\n",
    "**DATA format: {target_name}, {model_name}, {coordinates}, {adjacency_matrix}, {cad-score}**"
   ]
  },
  {
   "cell_type": "code",
   "execution_count": 4,
   "metadata": {},
   "outputs": [],
   "source": [
    "DATA = np.load('../../data/data.npy', allow_pickle=True)"
   ]
  },
  {
   "cell_type": "code",
   "execution_count": 5,
   "metadata": {},
   "outputs": [
    {
     "name": "stdout",
     "output_type": "stream",
     "text": [
      "['T0860' 'T0861' 'T0863' 'T0859' 'T0859' 'T0859' 'T0859' 'T0860' 'T0864'\n",
      " 'T0859' 'T0862' 'T0859' 'T0862' 'T0859' 'T0866' 'T0859' 'T0859' 'T0859'\n",
      " 'T0859' 'T0866' 'T0859' 'T0859' 'T0859' 'T0866' 'T0864' 'T0864' 'T0859'\n",
      " 'T0859' 'T0862' 'T0859' 'T0859' 'T0859' 'T0859' 'T0864' 'T0860' 'T0862'\n",
      " 'T0859' 'T0865' 'T0859' 'T0862' 'T0859' 'T0864' 'T0859' 'T0859' 'T0859'\n",
      " 'T0865' 'T0859' 'T0859' 'T0864' 'T0859' 'T0859' 'T0859' 'T0865' 'T0866'\n",
      " 'T0864' 'T0864' 'T0864' 'T0859' 'T0859' 'T0859' 'T0861' 'T0862' 'T0859'\n",
      " 'T0866' 'T0860' 'T0864' 'T0861' 'T0859' 'T0860' 'T0859' 'T0859' 'T0860'\n",
      " 'T0859' 'T0860' 'T0862' 'T0860' 'T0862' 'T0859' 'T0859' 'T0859' 'T0859'\n",
      " 'T0859' 'T0861' 'T0859' 'T0864' 'T0860' 'T0862' 'T0865' 'T0859' 'T0866'\n",
      " 'T0859' 'T0860' 'T0859' 'T0859' 'T0866' 'T0866' 'T0859' 'T0862' 'T0866'\n",
      " 'T0862' 'T0859' 'T0859' 'T0859' 'T0859' 'T0859' 'T0860' 'T0866' 'T0866'\n",
      " 'T0862' 'T0859' 'T0862' 'T0860' 'T0859' 'T0861' 'T0859' 'T0859' 'T0862'\n",
      " 'T0860' 'T0859' 'T0860' 'T0859' 'T0864' 'T0859' 'T0866' 'T0864' 'T0861'\n",
      " 'T0866' 'T0859' 'T0859' 'T0859' 'T0866' 'T0859' 'T0859' 'T0859' 'T0864'\n",
      " 'T0859' 'T0862' 'T0860' 'T0859' 'T0866' 'T0859' 'T0859' 'T0862' 'T0859'\n",
      " 'T0859' 'T0864' 'T0862' 'T0864' 'T0859' 'T0859' 'T0861' 'T0859' 'T0866'\n",
      " 'T0864' 'T0859' 'T0859' 'T0862' 'T0862' 'T0859' 'T0862' 'T0859' 'T0860'\n",
      " 'T0859' 'T0865' 'T0859' 'T0859' 'T0866' 'T0861' 'T0859' 'T0866' 'T0866'\n",
      " 'T0866' 'T0862' 'T0862' 'T0859' 'T0859' 'T0860' 'T0864' 'T0864' 'T0862'\n",
      " 'T0859' 'T0861' 'T0859' 'T0859' 'T0860' 'T0864' 'T0859' 'T0860' 'T0864'\n",
      " 'T0862' 'T0859' 'T0866' 'T0860' 'T0860' 'T0859' 'T0860' 'T0859' 'T0859'\n",
      " 'T0864' 'T0859' 'T0866' 'T0866' 'T0866' 'T0859' 'T0860' 'T0864' 'T0859'\n",
      " 'T0864' 'T0861' 'T0862' 'T0859' 'T0860' 'T0859' 'T0866' 'T0860' 'T0864'\n",
      " 'T0859' 'T0859' 'T0859' 'T0860' 'T0859']\n"
     ]
    }
   ],
   "source": [
    "DATA_permuted = np.random.permutation(DATA)\n",
    "print(DATA_permuted[:, 0])"
   ]
  },
  {
   "cell_type": "code",
   "execution_count": 6,
   "metadata": {},
   "outputs": [
    {
     "data": {
      "text/plain": [
       "\"\\na = DATA_permuted[:, 0] == 'T0861'\\nb = DATA_permuted[:, 1] == 'chuo-u-server_TS2'\\nsum(np.logical_and(a, b))\\n\\n\\nDATA_859 = DATA[:104]\\nX_859 = DATA_859[:, 2]\\nindices_where988 = [i for i in range(len(X_859)) if X_859[i].shape[0] == 988]\\nnewData = DATA_859[indices_where988]\\n\\nnewData_permut = np.random.permutation(newData)\\n\""
      ]
     },
     "execution_count": 6,
     "metadata": {},
     "output_type": "execute_result"
    }
   ],
   "source": [
    "'''\n",
    "a = DATA_permuted[:, 0] == 'T0861'\n",
    "b = DATA_permuted[:, 1] == 'chuo-u-server_TS2'\n",
    "sum(np.logical_and(a, b))\n",
    "\n",
    "\n",
    "DATA_859 = DATA[:104]\n",
    "X_859 = DATA_859[:, 2]\n",
    "indices_where988 = [i for i in range(len(X_859)) if X_859[i].shape[0] == 988]\n",
    "newData = DATA_859[indices_where988]\n",
    "\n",
    "newData_permut = np.random.permutation(newData)\n",
    "'''"
   ]
  },
  {
   "cell_type": "code",
   "execution_count": 7,
   "metadata": {},
   "outputs": [],
   "source": [
    "def laplacian(A):\n",
    "    '''\n",
    "    A - adjacency matrix\n",
    "    d - degree matrix \n",
    "    Return graph Laplacian\n",
    "    '''\n",
    "    d = A.sum(axis=0)\n",
    "    d += np.spacing(np.array(0, A.dtype)) # добавление epsilon\n",
    "    d = 1 / np.sqrt(d)\n",
    "    D = sparse.diags(d.squeeze(), 0)\n",
    "    I = sparse.identity(d.size, dtype=A.dtype)\n",
    "    L = I - D * A * D\n",
    "\n",
    "    assert np.abs(L - L.T).mean() < 1e-9\n",
    "    #assert type(L) is sparse.csr.csr_matrix\n",
    "    return L.A\n",
    "\n",
    "def lmax_L(L):\n",
    "    \"\"\"Compute largest Laplacian eigenvalue\"\"\"\n",
    "    return linalg.eigsh(L, k=1, which='LM', return_eigenvectors=False)[0]\n",
    "\n",
    "# L с волной\n",
    "def rescale_L(L, lmax=2):\n",
    "    \"\"\"Rescale Laplacian eigenvalues to [-1,1]\"\"\"\n",
    "    M, M = L.shape\n",
    "    I = sparse.identity(M, format='csr', dtype=L.dtype)\n",
    "    L /= lmax\n",
    "    L *= 2\n",
    "    L -= I\n",
    "    return L.A"
   ]
  },
  {
   "cell_type": "code",
   "execution_count": 16,
   "metadata": {},
   "outputs": [
    {
     "name": "stdout",
     "output_type": "stream",
     "text": [
      "l_max = 1.4954649232167898\n",
      "CPU times: user 14.1 s, sys: 1.19 s, total: 15.3 s\n",
      "Wall time: 9.11 s\n"
     ]
    }
   ],
   "source": [
    "%%time\n",
    "test_adj = DATA_permuted[2][3]\n",
    "L = laplacian(test_adj)\n",
    "l_max = lmax_L(L)\n",
    "L_hat = rescale_L(L, l_max)\n",
    "\n",
    "print('l_max = {}'.format(l_max))"
   ]
  },
  {
   "cell_type": "markdown",
   "metadata": {},
   "source": [
    "Получившаяся матрица сильно разреженная. Ненулевых элементов ~0-2%:"
   ]
  },
  {
   "cell_type": "code",
   "execution_count": 17,
   "metadata": {},
   "outputs": [
    {
     "name": "stdout",
     "output_type": "stream",
     "text": [
      "Ненулевых элементов: 49119\n",
      "Всего элементов в матрице: 27008809\n",
      "0.182%\n"
     ]
    }
   ],
   "source": [
    "not_zero = sum(sum(L_hat != 0))\n",
    "total = len(L_hat)**2\n",
    "print('Ненулевых элементов: {}\\nВсего элементов в матрице: {}'.format(not_zero, total))\n",
    "print(str(round(100 * not_zero / total, 3)) + '%')"
   ]
  },
  {
   "cell_type": "code",
   "execution_count": 32,
   "metadata": {},
   "outputs": [],
   "source": [
    "class GraphConv(nn.Module):\n",
    "    '''\n",
    "    Graph Convolution Layer according to (T. Kipf and M. Welling, ICLR 2017)\n",
    "    Additional tricks (power of adjacency matrix and weight self connections) as in the Graph U-Net paper\n",
    "    '''\n",
    "    def __init__(self,\n",
    "                in_features,\n",
    "                out_features,\n",
    "                activation=None,\n",
    "                adj_sq=False,\n",
    "                scale_identity=False):\n",
    "        super(GraphConv, self).__init__()\n",
    "        self.fc = nn.Linear(in_features=in_features, out_features=out_features).double()\n",
    "        self.adj_sq = adj_sq\n",
    "        self.activation = activation\n",
    "        self.scale_identity = scale_identity\n",
    "            \n",
    "    def laplacian_batch(self, A):\n",
    "        \n",
    "        batch, N = A.shape[:2]\n",
    "        if self.adj_sq:\n",
    "            A = torch.bmm(A, A)  # use A^2 to increase graph connectivity\n",
    "        I = torch.eye(N).unsqueeze(0).double().to(device)\n",
    "        if self.scale_identity:\n",
    "            I = 2 * I  # increase weight of self connections\n",
    "        A_hat = A + I\n",
    "        D_hat = (torch.sum(A_hat, 1) + 1e-5) ** (-0.5)\n",
    "        #print('-'*40)\n",
    "        #print(batch)\n",
    "        #print(A_hat.shape)\n",
    "        #print(D_hat.shape)\n",
    "        #print(D_hat.view(batch, N, 1).shape)\n",
    "        #print('-'*40)\n",
    "        L = D_hat.view(batch, N, 1) * A_hat * D_hat.view(batch, 1, N)\n",
    "        return L\n",
    "\n",
    "    def forward(self, data):\n",
    "        x, A = data\n",
    "        \n",
    "        a = torch.bmm(self.laplacian_batch(A), x)\n",
    "        #print(a.shape)\n",
    "        x = self.fc(a.double())\n",
    "        \n",
    "        #print(x.shape)\n",
    "        if self.activation is not None:\n",
    "            x = self.activation(x)\n",
    "        return (x, A)\n",
    "        \n",
    "class GCN(nn.Module):\n",
    "    '''\n",
    "    Baseline Graph Convolutional Network with a stack of Graph Convolution Layers and global pooling over nodes.\n",
    "    '''\n",
    "    def __init__(self,\n",
    "                 in_features,\n",
    "                 out_features,\n",
    "                 filters=[64,64,64],\n",
    "                 n_hidden=0,\n",
    "                 dropout=0.2,\n",
    "                 adj_sq=False,\n",
    "                 scale_identity=False):\n",
    "        super(GCN, self).__init__()\n",
    "\n",
    "        # Graph convolution layers\n",
    "        self.gconv = nn.Sequential(*([GraphConv(in_features=in_features if layer == 0 else filters[layer - 1], \n",
    "                                                out_features=f, \n",
    "                                                activation=nn.ReLU(inplace=True),\n",
    "                                                adj_sq=adj_sq,\n",
    "                                                scale_identity=scale_identity) for layer, f in enumerate(filters)]))\n",
    "        \n",
    "        # Fully connected layers\n",
    "        fc = []\n",
    "        if dropout > 0:\n",
    "            fc.append(nn.Dropout(p=dropout))\n",
    "        if n_hidden > 0:\n",
    "            fc.append(nn.Linear(filters[-1], n_hidden))\n",
    "            if dropout > 0:\n",
    "                fc.append(nn.Dropout(p=dropout))\n",
    "            n_last = n_hidden\n",
    "        else:\n",
    "            n_last = filters[-1]\n",
    "        fc.append(nn.Linear(n_last, out_features))       \n",
    "        self.fc = nn.Sequential(*fc).double()\n",
    "        \n",
    "    def forward(self, data):\n",
    "        # X, A = data\n",
    "        x = self.gconv(data)[0]\n",
    "        x = torch.max(x, dim=1)[0].squeeze()  # max pooling over nodes\n",
    "        x = self.fc(x)\n",
    "        return x"
   ]
  },
  {
   "cell_type": "code",
   "execution_count": 33,
   "metadata": {},
   "outputs": [],
   "source": [
    "model = GCN(in_features=3,\n",
    "            out_features=1,\n",
    "            n_hidden=0,\n",
    "            filters=[64,64,64],\n",
    "            dropout=0.2,\n",
    "            adj_sq=False,\n",
    "            scale_identity=False).to(device)"
   ]
  },
  {
   "cell_type": "code",
   "execution_count": 34,
   "metadata": {},
   "outputs": [
    {
     "name": "stdout",
     "output_type": "stream",
     "text": [
      "train: 190\n",
      "test: 31\n"
     ]
    }
   ],
   "source": [
    "'''\n",
    "separator=60\n",
    "train_data = [list(newData_permut[:separator][i]) for i in range(len(newData_permut[:separator]))]\n",
    "test_data = [list(newData_permut[separator:][i]) for i in range(len(newData_permut[separator:]))]\n",
    "train_loader = torch.utils.data.DataLoader(train_data, batch_size=batch_size, shuffle=True)\n",
    "test_loader = torch.utils.data.DataLoader(test_data, batch_size=batch_size, shuffle=True)\n",
    "'''\n",
    "separator=190\n",
    "train_data = [list(DATA_permuted[:separator][i]) for i in range(len(DATA_permuted[:separator]))]\n",
    "test_data = [list(DATA_permuted[separator:][i]) for i in range(len(DATA_permuted[separator:]))]\n",
    "train_loader = torch.utils.data.DataLoader(train_data, batch_size=batch_size, shuffle=True)\n",
    "test_loader = torch.utils.data.DataLoader(test_data, batch_size=batch_size, shuffle=True)\n",
    "print('train: {}\\ntest: {}'.format(len(train_data), len(test_data)))"
   ]
  },
  {
   "cell_type": "code",
   "execution_count": 35,
   "metadata": {},
   "outputs": [],
   "source": [
    "from scipy.stats import pearsonr, kendalltau, zscore"
   ]
  },
  {
   "cell_type": "code",
   "execution_count": 36,
   "metadata": {
    "scrolled": true
   },
   "outputs": [
    {
     "name": "stdout",
     "output_type": "stream",
     "text": [
      "\n",
      "Initialize model\n",
      "GCN(\n",
      "  (gconv): Sequential(\n",
      "    (0): GraphConv(\n",
      "      (fc): Linear(in_features=3, out_features=64, bias=True)\n",
      "      (activation): ReLU(inplace=True)\n",
      "    )\n",
      "    (1): GraphConv(\n",
      "      (fc): Linear(in_features=64, out_features=64, bias=True)\n",
      "      (activation): ReLU(inplace=True)\n",
      "    )\n",
      "    (2): GraphConv(\n",
      "      (fc): Linear(in_features=64, out_features=64, bias=True)\n",
      "      (activation): ReLU(inplace=True)\n",
      "    )\n",
      "  )\n",
      "  (fc): Sequential(\n",
      "    (0): Dropout(p=0.2, inplace=False)\n",
      "    (1): Linear(in_features=64, out_features=1, bias=True)\n",
      "  )\n",
      ")\n",
      "Train Epoch: 0 [1/190 (1%)]\tLoss: 0.056568 (avg: 0.056568) \tsec/iter: 0.0822\n",
      "Train Epoch: 0 [41/190 (22%)]\tLoss: 6.076685 (avg: 5.466421) \tsec/iter: 0.2104\n",
      "Train Epoch: 0 [81/190 (43%)]\tLoss: 2.928307 (avg: 3.118014) \tsec/iter: 0.2275\n",
      "Train Epoch: 0 [121/190 (64%)]\tLoss: 0.017901 (avg: 2.308981) \tsec/iter: 0.2599\n",
      "Train Epoch: 0 [161/190 (85%)]\tLoss: 0.173495 (avg: 1.793983) \tsec/iter: 0.2380\n",
      "Test set (epoch 0): Mean loss: 0.0564\n",
      "\n",
      "Train Epoch: 1 [1/190 (1%)]\tLoss: 0.066755 (avg: 0.066755) \tsec/iter: 0.1129\n",
      "Train Epoch: 1 [41/190 (22%)]\tLoss: 0.000274 (avg: 0.121265) \tsec/iter: 0.1774\n",
      "Train Epoch: 1 [81/190 (43%)]\tLoss: 0.000443 (avg: 0.139746) \tsec/iter: 0.2532\n",
      "Train Epoch: 1 [121/190 (64%)]\tLoss: 0.097066 (avg: 0.127980) \tsec/iter: 0.2444\n",
      "Train Epoch: 1 [161/190 (85%)]\tLoss: 0.008323 (avg: 0.110202) \tsec/iter: 0.2259\n",
      "Test set (epoch 1): Mean loss: 0.0883\n",
      "\n",
      "Train Epoch: 2 [1/190 (1%)]\tLoss: 0.026547 (avg: 0.026547) \tsec/iter: 0.0924\n",
      "Train Epoch: 2 [41/190 (22%)]\tLoss: 0.000088 (avg: 0.075216) \tsec/iter: 0.1617\n",
      "Train Epoch: 2 [81/190 (43%)]\tLoss: 0.095082 (avg: 0.057577) \tsec/iter: 0.1974\n",
      "Train Epoch: 2 [121/190 (64%)]\tLoss: 0.005643 (avg: 0.064591) \tsec/iter: 0.2433\n",
      "Train Epoch: 2 [161/190 (85%)]\tLoss: 0.014067 (avg: 0.062263) \tsec/iter: 0.2387\n",
      "Test set (epoch 2): Mean loss: 0.0531\n",
      "\n",
      "Train Epoch: 3 [1/190 (1%)]\tLoss: 0.006739 (avg: 0.006739) \tsec/iter: 0.1071\n",
      "Train Epoch: 3 [41/190 (22%)]\tLoss: 0.041653 (avg: 0.134882) \tsec/iter: 0.2162\n",
      "Train Epoch: 3 [81/190 (43%)]\tLoss: 0.000032 (avg: 0.083750) \tsec/iter: 0.2464\n",
      "Train Epoch: 3 [121/190 (64%)]\tLoss: 0.000127 (avg: 0.060246) \tsec/iter: 0.2175\n",
      "Train Epoch: 3 [161/190 (85%)]\tLoss: 0.058171 (avg: 0.056129) \tsec/iter: 0.2266\n",
      "Test set (epoch 3): Mean loss: 0.0421\n",
      "\n",
      "Train Epoch: 4 [1/190 (1%)]\tLoss: 0.000333 (avg: 0.000333) \tsec/iter: 0.0985\n",
      "Train Epoch: 4 [41/190 (22%)]\tLoss: 0.000860 (avg: 0.041559) \tsec/iter: 0.1754\n",
      "Train Epoch: 4 [81/190 (43%)]\tLoss: 0.028424 (avg: 0.036215) \tsec/iter: 0.1884\n",
      "Train Epoch: 4 [121/190 (64%)]\tLoss: 0.114777 (avg: 0.030648) \tsec/iter: 0.1769\n",
      "Train Epoch: 4 [161/190 (85%)]\tLoss: 0.093525 (avg: 0.027185) \tsec/iter: 0.1969\n",
      "Test set (epoch 4): Mean loss: 0.0199\n",
      "\n",
      "Train Epoch: 5 [1/190 (1%)]\tLoss: 0.011623 (avg: 0.011623) \tsec/iter: 0.0665\n",
      "Train Epoch: 5 [41/190 (22%)]\tLoss: 0.029040 (avg: 0.014538) \tsec/iter: 0.1884\n",
      "Train Epoch: 5 [81/190 (43%)]\tLoss: 0.000013 (avg: 0.015995) \tsec/iter: 0.2192\n",
      "Train Epoch: 5 [121/190 (64%)]\tLoss: 0.000001 (avg: 0.022466) \tsec/iter: 0.1988\n",
      "Train Epoch: 5 [161/190 (85%)]\tLoss: 0.008188 (avg: 0.022022) \tsec/iter: 0.1887\n",
      "Test set (epoch 5): Mean loss: 0.0306\n",
      "\n",
      "Train Epoch: 6 [1/190 (1%)]\tLoss: 0.112783 (avg: 0.112783) \tsec/iter: 0.0719\n",
      "Train Epoch: 6 [41/190 (22%)]\tLoss: 0.000037 (avg: 0.020169) \tsec/iter: 0.2075\n",
      "Train Epoch: 6 [81/190 (43%)]\tLoss: 0.022535 (avg: 0.014638) \tsec/iter: 0.1665\n",
      "Train Epoch: 6 [121/190 (64%)]\tLoss: 0.000407 (avg: 0.015577) \tsec/iter: 0.1807\n",
      "Train Epoch: 6 [161/190 (85%)]\tLoss: 0.002968 (avg: 0.017385) \tsec/iter: 0.1767\n",
      "Test set (epoch 6): Mean loss: 0.0106\n",
      "\n",
      "Train Epoch: 7 [1/190 (1%)]\tLoss: 0.000158 (avg: 0.000158) \tsec/iter: 0.1239\n",
      "Train Epoch: 7 [41/190 (22%)]\tLoss: 0.018071 (avg: 0.012100) \tsec/iter: 0.1827\n",
      "Train Epoch: 7 [81/190 (43%)]\tLoss: 0.020554 (avg: 0.011024) \tsec/iter: 0.1653\n",
      "Train Epoch: 7 [121/190 (64%)]\tLoss: 0.011126 (avg: 0.015454) \tsec/iter: 0.2084\n",
      "Train Epoch: 7 [161/190 (85%)]\tLoss: 0.072866 (avg: 0.016890) \tsec/iter: 0.2057\n",
      "Test set (epoch 7): Mean loss: 0.0121\n",
      "\n",
      "Train Epoch: 8 [1/190 (1%)]\tLoss: 0.001805 (avg: 0.001805) \tsec/iter: 0.0807\n",
      "Train Epoch: 8 [41/190 (22%)]\tLoss: 0.073153 (avg: 0.016554) \tsec/iter: 0.1522\n",
      "Train Epoch: 8 [81/190 (43%)]\tLoss: 0.000400 (avg: 0.021054) \tsec/iter: 0.1669\n",
      "Train Epoch: 8 [121/190 (64%)]\tLoss: 0.008591 (avg: 0.021075) \tsec/iter: 0.1930\n",
      "Train Epoch: 8 [161/190 (85%)]\tLoss: 0.001799 (avg: 0.018863) \tsec/iter: 0.1902\n",
      "Test set (epoch 8): Mean loss: 0.0137\n",
      "\n",
      "Train Epoch: 9 [1/190 (1%)]\tLoss: 0.016344 (avg: 0.016344) \tsec/iter: 0.2471\n",
      "Train Epoch: 9 [41/190 (22%)]\tLoss: 0.004658 (avg: 0.018664) \tsec/iter: 0.1413\n",
      "Train Epoch: 9 [81/190 (43%)]\tLoss: 0.001092 (avg: 0.015911) \tsec/iter: 0.1452\n",
      "Train Epoch: 9 [121/190 (64%)]\tLoss: 0.002243 (avg: 0.015096) \tsec/iter: 0.1788\n",
      "Train Epoch: 9 [161/190 (85%)]\tLoss: 0.000617 (avg: 0.014909) \tsec/iter: 0.1787\n",
      "Test set (epoch 9): Mean loss: 0.0128\n",
      "\n"
     ]
    }
   ],
   "source": [
    "print('\\nInitialize model')\n",
    "print(model)\n",
    "\n",
    "wdecay = 1e-4\n",
    "lr = 0.005\n",
    "epochs = 10\n",
    "batch_size = 1\n",
    "\n",
    "optimizer = optim.Adam(\n",
    "    filter(lambda p: p.requires_grad, model.parameters()),\n",
    "    lr=lr,\n",
    "    weight_decay=wdecay,\n",
    "    betas=(0.5, 0.999))\n",
    "    \n",
    "scheduler = lr_scheduler.MultiStepLR(optimizer, [20, 30], gamma=0.1)\n",
    "\n",
    "\n",
    "def train(train_loader):\n",
    "    scheduler.step()\n",
    "    model.train()\n",
    "    start = time.time()\n",
    "    train_loss_ep = []\n",
    "    n_samples = 0\n",
    "    for batch_idx, data in enumerate(train_loader): \n",
    "        optimizer.zero_grad()\n",
    "        output = model(data[2:4])\n",
    "        loss = loss_fn(output, data[4])\n",
    "        loss.backward()\n",
    "        optimizer.step()\n",
    "        time_iter = time.time() - start\n",
    "        train_loss_ep.append(loss.item())\n",
    "        n_samples += len(output)\n",
    "\n",
    "        if batch_idx%40==0:\n",
    "            print('Train Epoch: {} [{}/{} ({:.0f}%)]\\tLoss: {:.6f} (avg: {:.6f}) \\tsec/iter: {:.4f}'.format(\n",
    "                epoch, n_samples, len(train_loader.dataset),\n",
    "                100. * (batch_idx + 1) / len(train_loader), loss.item(), sum(train_loss_ep) / n_samples, time_iter / (batch_idx + 1) ))\n",
    "\n",
    "    return train_loss_ep\n",
    "\n",
    "\n",
    "def test(test_loader):\n",
    "    model.eval()\n",
    "    start = time.time()\n",
    "    test_loss_ep = []\n",
    "    correct, n_samples = 0, 0\n",
    "    for batch_idx, data in enumerate(test_loader):\n",
    "        #for i in range(len(data)):\n",
    "        #    data[i] = data[i].to(device)\n",
    " \n",
    "        output = model(data[2:4])\n",
    "        loss = loss_fn(output, data[4])\n",
    "        test_loss_ep.append(loss.item())\n",
    "        n_samples += len(output)\n",
    "\n",
    "\n",
    "    time_iter = time.time() - start\n",
    "    print('Test set (epoch {}): Mean loss: {:.4f}\\n'.format(epoch, np.mean(test_loss_ep)))\n",
    "    return test_loss_ep\n",
    "\n",
    "loss_fn = torch.nn.MSELoss()\n",
    "mse_train_plot, mse_test_plot = [], []\n",
    "for epoch in range(epochs):\n",
    "    train_loss = train(train_loader)\n",
    "    mse_train_plot.append(train_loss)\n",
    "    test_loss = test(test_loader)\n",
    "    mse_test_plot.append(test_loss)\n",
    "    "
   ]
  },
  {
   "cell_type": "code",
   "execution_count": 101,
   "metadata": {},
   "outputs": [
    {
     "data": {
      "image/png": "[encoded data removed]",
      "text/plain": [
       "<Figure size 864x504 with 1 Axes>"
      ]
     },
     "metadata": {
      "needs_background": "light"
     },
     "output_type": "display_data"
    }
   ],
   "source": [
    "tr = np.array(mse_train_plot).flatten()\n",
    "\n",
    "plt.figure(figsize=(12, 7))\n",
    "axes = plt.gca()\n",
    "axes.set_ylim([0,0.4])\n",
    "\n",
    "plt.plot((np.arange(10)+1), np.mean(mse_train_plot,1), lw=1, linestyle='-', label='train', alpha=2)\n",
    "plt.fill_between((np.arange(10)+1), np.mean(mse_train_plot, 1)  + np.std(mse_train_plot, 1) , \n",
    "                 np.mean(mse_train_plot, 1) - np.std(mse_train_plot, 1), \n",
    "                 alpha = 0.2)\n",
    "\n",
    "\n",
    "plt.plot((np.arange(len(tr))/190)[190:], tr[190:], \n",
    "         lw=1, linestyle='-', label='train batches', color='orange', alpha=0.3)\n",
    "\n",
    "plt.plot((np.arange(10)+1), np.mean(mse_test_plot,1), lw=1, linestyle='-', label='test', color='green') \n",
    "plt.fill_between((np.arange(10)+1), np.mean(mse_test_plot, 1)  + np.std(mse_test_plot, 1) , \n",
    "                 np.mean(mse_test_plot, 1) - np.std(mse_test_plot, 1), color='green',\n",
    "                 alpha = 0.2)\n",
    "\n",
    "plt.xlabel('epoch')\n",
    "plt.ylabel('MSE')\n",
    "plt.legend(loc=\"best\", prop={'size': 15})\n",
    "\n",
    "plt.savefig('./training.pdf')\n",
    "plt.show()"
   ]
  },
  {
   "cell_type": "code",
   "execution_count": null,
   "metadata": {},
   "outputs": [],
   "source": []
  },
  {
   "cell_type": "code",
   "execution_count": null,
   "metadata": {},
   "outputs": [],
   "source": []
  }
 ],
 "metadata": {
  "kernelspec": {
   "display_name": "Python 3",
   "language": "python",
   "name": "python3"
  },
  "language_info": {
   "codemirror_mode": {
    "name": "ipython",
    "version": 3
   },
   "file_extension": ".py",
   "mimetype": "text/x-python",
   "name": "python",
   "nbconvert_exporter": "python",
   "pygments_lexer": "ipython3",
   "version": "3.7.2"
  }
 },
 "nbformat": 4,
 "nbformat_minor": 2
}
