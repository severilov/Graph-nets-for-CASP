{
 "cells": [
  {
   "cell_type": "markdown",
   "metadata": {},
   "source": [
    "# Архитектуры тестируемых моделей нейросетей (скорее всего сделать в виде обычного файла .py)"
   ]
  },
  {
   "cell_type": "markdown",
   "metadata": {},
   "source": [
    "https://github.com/muhanzhang/pytorch_DGCNN"
   ]
  },
  {
   "cell_type": "markdown",
   "metadata": {},
   "source": [
    "* https://arxiv.org/abs/1812.08434v4\n",
    "* https://github.com/ShiYaya/graph\n"
   ]
  },
  {
   "cell_type": "code",
   "execution_count": null,
   "metadata": {},
   "outputs": [],
   "source": []
  },
  {
   "cell_type": "code",
   "execution_count": null,
   "metadata": {},
   "outputs": [],
   "source": []
  },
  {
   "cell_type": "markdown",
   "metadata": {},
   "source": [
    "На основе https://arxiv.org/pdf/1606.09375.pdf"
   ]
  },
  {
   "cell_type": "code",
   "execution_count": null,
   "metadata": {},
   "outputs": [],
   "source": []
  },
  {
   "cell_type": "code",
   "execution_count": 1,
   "metadata": {},
   "outputs": [],
   "source": [
    "import torch\n",
    "from torch.autograd import Variable\n",
    "import torch.nn.functional as F\n",
    "import torch.nn as nn\n",
    "import torch.optim as optim\n",
    "import torch.optim.lr_scheduler as lr_scheduler\n",
    "\n",
    "import pdb\n",
    "from biopandas.pdb import PandasPdb\n",
    "ppdb = PandasPdb()\n",
    "\n",
    "import os\n",
    "import time\n",
    "import numpy as np\n",
    "#import scipy\n",
    "from scipy import sparse \n",
    "from scipy.sparse import linalg\n",
    "#from tqdm.auto import tqdm\n",
    "from tqdm import tqdm"
   ]
  },
  {
   "cell_type": "code",
   "execution_count": 2,
   "metadata": {},
   "outputs": [],
   "source": [
    "%matplotlib inline\n",
    "import matplotlib as mpl\n",
    "import matplotlib.pyplot as plt\n",
    "mpl.style.use('seaborn')\n",
    "plt.rc('font', size=15)          # controls default text sizes\n",
    "plt.rc('axes', titlesize=15)     # fontsize of the axes title\n",
    "plt.rc('axes', labelsize=15)    # fontsize of the x and y labels\n",
    "plt.rc('xtick', labelsize=15)    # fontsize of the tick labels\n",
    "plt.rc('ytick', labelsize=15)    # fontsize of the tick labels"
   ]
  },
  {
   "cell_type": "code",
   "execution_count": 3,
   "metadata": {},
   "outputs": [
    {
     "name": "stdout",
     "output_type": "stream",
     "text": [
      "cuda not available\n",
      "device = cpu\n"
     ]
    }
   ],
   "source": [
    "import collections\n",
    "\n",
    "if torch.cuda.is_available():\n",
    "    print('cuda available')\n",
    "    dtypeFloat = torch.cuda.FloatTensor\n",
    "    dtypeLong = torch.cuda.LongTensor\n",
    "    torch.cuda.manual_seed(1)\n",
    "else:\n",
    "    print('cuda not available')\n",
    "    dtypeFloat = torch.FloatTensor\n",
    "    dtypeLong = torch.LongTensor\n",
    "    torch.manual_seed(1)\n",
    "    \n",
    "device = torch.device('cuda' if torch.cuda.is_available() else 'cpu')\n",
    "print('device = {}'.format(device))"
   ]
  },
  {
   "cell_type": "markdown",
   "metadata": {},
   "source": [
    "X – coordinates\n",
    "\n",
    "A – adjacency matrices\n",
    "\n",
    "y – cad-scores\n",
    "\n",
    "**DATA format: {target_name}, {model_name}, {coordinates}, {adjacency_matrix}, {cad-score}**"
   ]
  },
  {
   "cell_type": "code",
   "execution_count": 4,
   "metadata": {},
   "outputs": [],
   "source": [
    "DATA = np.load('./data.npy', allow_pickle=True)"
   ]
  },
  {
   "cell_type": "code",
   "execution_count": 6,
   "metadata": {},
   "outputs": [
    {
     "data": {
      "text/plain": [
       "1"
      ]
     },
     "execution_count": 6,
     "metadata": {},
     "output_type": "execute_result"
    }
   ],
   "source": [
    "a = DATA[:, 0] == 'T0861'\n",
    "b = DATA[:, 1] == 'chuo-u-server_TS2'\n",
    "sum(np.logical_and(a, b))"
   ]
  },
  {
   "cell_type": "code",
   "execution_count": 7,
   "metadata": {},
   "outputs": [],
   "source": [
    "DATA_permuted = np.random.permutation(DATA)"
   ]
  },
  {
   "cell_type": "code",
   "execution_count": 8,
   "metadata": {},
   "outputs": [
    {
     "data": {
      "text/plain": [
       "1"
      ]
     },
     "execution_count": 8,
     "metadata": {},
     "output_type": "execute_result"
    }
   ],
   "source": [
    "a = DATA_permuted[:, 0] == 'T0861'\n",
    "b = DATA_permuted[:, 1] == 'chuo-u-server_TS2'\n",
    "sum(np.logical_and(a, b))"
   ]
  },
  {
   "cell_type": "code",
   "execution_count": 9,
   "metadata": {},
   "outputs": [
    {
     "name": "stdout",
     "output_type": "stream",
     "text": [
      "['T0859' 'T0866' 'T0865' 'T0859' 'T0866' 'T0860' 'T0860' 'T0859' 'T0861'\n",
      " 'T0859' 'T0859' 'T0859' 'T0866' 'T0860' 'T0859' 'T0859' 'T0864' 'T0866'\n",
      " 'T0861' 'T0859' 'T0859' 'T0859' 'T0860' 'T0860' 'T0859' 'T0864' 'T0861'\n",
      " 'T0860' 'T0860' 'T0860' 'T0859' 'T0859' 'T0862' 'T0860' 'T0866' 'T0859'\n",
      " 'T0864' 'T0865' 'T0860' 'T0864' 'T0862' 'T0864' 'T0862' 'T0866' 'T0859'\n",
      " 'T0862' 'T0859' 'T0859' 'T0866' 'T0860' 'T0860' 'T0859' 'T0859' 'T0859'\n",
      " 'T0864' 'T0859' 'T0859' 'T0859' 'T0859' 'T0862' 'T0859' 'T0866' 'T0859'\n",
      " 'T0861' 'T0864' 'T0859' 'T0859' 'T0859' 'T0859' 'T0859' 'T0859' 'T0866'\n",
      " 'T0859' 'T0859' 'T0864' 'T0859' 'T0859' 'T0866' 'T0859' 'T0862' 'T0861'\n",
      " 'T0859' 'T0860' 'T0859' 'T0862' 'T0860' 'T0860' 'T0859' 'T0859' 'T0861'\n",
      " 'T0859' 'T0864' 'T0859' 'T0859' 'T0859' 'T0861' 'T0862' 'T0859' 'T0866'\n",
      " 'T0865' 'T0859' 'T0860' 'T0860' 'T0864' 'T0859' 'T0859' 'T0859' 'T0862'\n",
      " 'T0859' 'T0866' 'T0864' 'T0866' 'T0862' 'T0859' 'T0859' 'T0864' 'T0864'\n",
      " 'T0862' 'T0859' 'T0859' 'T0859' 'T0859' 'T0862' 'T0862' 'T0864' 'T0862'\n",
      " 'T0864' 'T0864' 'T0862' 'T0866' 'T0862' 'T0859' 'T0860' 'T0862' 'T0863'\n",
      " 'T0864' 'T0859' 'T0859' 'T0859' 'T0864' 'T0859' 'T0860' 'T0859' 'T0859'\n",
      " 'T0860' 'T0862' 'T0866' 'T0859' 'T0859' 'T0859' 'T0859' 'T0859' 'T0864'\n",
      " 'T0859' 'T0866' 'T0866' 'T0866' 'T0859' 'T0859' 'T0864' 'T0861' 'T0859'\n",
      " 'T0859' 'T0859' 'T0859' 'T0859' 'T0860' 'T0866' 'T0859' 'T0862' 'T0861'\n",
      " 'T0859' 'T0859' 'T0866' 'T0859' 'T0864' 'T0866' 'T0860' 'T0859' 'T0860'\n",
      " 'T0859' 'T0859' 'T0859' 'T0859' 'T0862' 'T0859' 'T0866' 'T0859' 'T0862'\n",
      " 'T0866' 'T0866' 'T0860' 'T0864' 'T0861' 'T0864' 'T0864' 'T0859' 'T0862'\n",
      " 'T0859' 'T0864' 'T0859' 'T0862' 'T0859' 'T0865' 'T0865' 'T0859' 'T0859'\n",
      " 'T0862' 'T0859' 'T0859' 'T0859' 'T0859' 'T0859' 'T0866' 'T0860' 'T0862'\n",
      " 'T0859' 'T0860' 'T0859' 'T0859' 'T0859']\n"
     ]
    }
   ],
   "source": [
    "print(DATA_permuted[:, 0])"
   ]
  },
  {
   "cell_type": "code",
   "execution_count": 227,
   "metadata": {},
   "outputs": [],
   "source": [
    "DATA_859 = DATA[:104]"
   ]
  },
  {
   "cell_type": "code",
   "execution_count": 228,
   "metadata": {},
   "outputs": [],
   "source": [
    "X_859 = DATA_859[:, 2]"
   ]
  },
  {
   "cell_type": "code",
   "execution_count": 229,
   "metadata": {},
   "outputs": [],
   "source": [
    "indices_where988 = [i for i in range(len(X_859)) if X_859[i].shape[0] == 988]\n",
    "newData = DATA_859[indices_where988]"
   ]
  },
  {
   "cell_type": "code",
   "execution_count": 380,
   "metadata": {},
   "outputs": [],
   "source": [
    "newData_permut = np.random.permutation(newData)"
   ]
  },
  {
   "cell_type": "code",
   "execution_count": 13,
   "metadata": {},
   "outputs": [
    {
     "name": "stdout",
     "output_type": "stream",
     "text": [
      "train: 60\n",
      "test: 9\n"
     ]
    }
   ],
   "source": [
    "'''\n",
    "separator = 200\n",
    "\n",
    "names_train = DATA_permuted[:separator, :2]\n",
    "X_train = DATA_permuted[:separator, 2]\n",
    "A_train = DATA_permuted[:separator, 3]\n",
    "y_train = DATA_permuted[:separator, 4]\n",
    "\n",
    "names_test =DATA_permuted[separator:, :2]\n",
    "X_test = DATA_permuted[separator:, 2]\n",
    "A_test = DATA_permuted[separator:, 3]\n",
    "y_test = DATA_permuted[separator:, 4]\n",
    "'''\n",
    "\n",
    "separator = 60\n",
    "\n",
    "names_train = newData[:separator, :2]\n",
    "X_train = newData[:separator, 2]\n",
    "A_train = newData[:separator, 3]\n",
    "y_train = newData[:separator, 4]\n",
    "\n",
    "names_test = newData[separator:, :2]\n",
    "X_test = newData[separator:, 2]\n",
    "A_test = newData[separator:, 3]\n",
    "y_test = newData[separator:, 4]\n",
    "\n",
    "print('train: {}\\ntest: {}'.format(X_train.shape[0], X_test.shape[0]))"
   ]
  },
  {
   "cell_type": "code",
   "execution_count": 14,
   "metadata": {},
   "outputs": [
    {
     "data": {
      "text/plain": [
       "988"
      ]
     },
     "execution_count": 14,
     "metadata": {},
     "output_type": "execute_result"
    }
   ],
   "source": [
    "len(X_train[0])"
   ]
  },
  {
   "cell_type": "code",
   "execution_count": 15,
   "metadata": {},
   "outputs": [],
   "source": [
    "def laplacian(A):\n",
    "    '''\n",
    "    A - adjacency matrix\n",
    "    d - degree matrix \n",
    "    Return graph Laplacian\n",
    "    '''\n",
    "    d = A.sum(axis=0)\n",
    "    d += np.spacing(np.array(0, A.dtype)) # добавление epsilon\n",
    "    d = 1 / np.sqrt(d)\n",
    "    D = sparse.diags(d.squeeze(), 0)\n",
    "    I = sparse.identity(d.size, dtype=A.dtype)\n",
    "    L = I - D * A * D\n",
    "\n",
    "    assert np.abs(L - L.T).mean() < 1e-9\n",
    "    #assert type(L) is sparse.csr.csr_matrix\n",
    "    return L.A\n",
    "\n",
    "def lmax_L(L):\n",
    "    \"\"\"Compute largest Laplacian eigenvalue\"\"\"\n",
    "    return linalg.eigsh(L, k=1, which='LM', return_eigenvectors=False)[0]\n",
    "\n",
    "# L с волной\n",
    "def rescale_L(L, lmax=2):\n",
    "    \"\"\"Rescale Laplacian eigenvalues to [-1,1]\"\"\"\n",
    "    M, M = L.shape\n",
    "    I = sparse.identity(M, format='csr', dtype=L.dtype)\n",
    "    L /= lmax\n",
    "    L *= 2\n",
    "    L -= I\n",
    "    return L.A"
   ]
  },
  {
   "cell_type": "code",
   "execution_count": 16,
   "metadata": {},
   "outputs": [
    {
     "name": "stdout",
     "output_type": "stream",
     "text": [
      "CPU times: user 370 ms, sys: 42.4 ms, total: 412 ms\n",
      "Wall time: 276 ms\n"
     ]
    }
   ],
   "source": [
    "%%time\n",
    "test_adj = A_train[0]\n",
    "L = laplacian(test_adj)\n",
    "l_max = lmax_L(L)\n",
    "L_hat = rescale_L(L, l_max)"
   ]
  },
  {
   "cell_type": "code",
   "execution_count": 17,
   "metadata": {},
   "outputs": [
    {
     "data": {
      "text/plain": [
       "1.3604276050662507"
      ]
     },
     "execution_count": 17,
     "metadata": {},
     "output_type": "execute_result"
    }
   ],
   "source": [
    "l_max"
   ]
  },
  {
   "cell_type": "markdown",
   "metadata": {},
   "source": [
    "Получившаяся матрица сильно разреженная. Ненулевых элементов ~1-2%:"
   ]
  },
  {
   "cell_type": "code",
   "execution_count": 18,
   "metadata": {},
   "outputs": [
    {
     "name": "stdout",
     "output_type": "stream",
     "text": [
      "Ненулевых элементов: 16942\n",
      "Всего элементов в матрице: 976144\n",
      "1.736%\n"
     ]
    }
   ],
   "source": [
    "not_zero = sum(sum(L_hat != 0))\n",
    "total = len(L_hat)**2\n",
    "print('Ненулевых элементов: {}\\nВсего элементов в матрице: {}'.format(not_zero, total))\n",
    "print(str(round(100 * not_zero / total, 3)) + '%')"
   ]
  },
  {
   "cell_type": "code",
   "execution_count": 19,
   "metadata": {},
   "outputs": [
    {
     "data": {
      "text/plain": [
       "(988, 3)"
      ]
     },
     "execution_count": 19,
     "metadata": {},
     "output_type": "execute_result"
    }
   ],
   "source": [
    "X_train[0].shape"
   ]
  },
  {
   "cell_type": "code",
   "execution_count": 254,
   "metadata": {},
   "outputs": [],
   "source": [
    "# NN layers and models\n",
    "class GraphConv(nn.Module):\n",
    "    '''\n",
    "    Graph Convolution Layer according to (T. Kipf and M. Welling, ICLR 2017)\n",
    "    Additional tricks (power of adjacency matrix and weight self connections) as in the Graph U-Net paper\n",
    "    '''\n",
    "    def __init__(self,\n",
    "                in_features,\n",
    "                out_features,\n",
    "                activation=None,\n",
    "                adj_sq=False,\n",
    "                scale_identity=False):\n",
    "        super(GraphConv, self).__init__()\n",
    "        self.fc = nn.Linear(in_features=in_features, out_features=out_features).double()\n",
    "        self.adj_sq = adj_sq\n",
    "        self.activation = activation\n",
    "        self.scale_identity = scale_identity\n",
    "            \n",
    "    def laplacian_batch(self, A):\n",
    "        \n",
    "        batch, N = A.shape[:2]\n",
    "        if self.adj_sq:\n",
    "            A = torch.bmm(A, A)  # use A^2 to increase graph connectivity\n",
    "        I = torch.eye(N).unsqueeze(0).double().to(device)\n",
    "        if self.scale_identity:\n",
    "            I = 2 * I  # increase weight of self connections\n",
    "        A_hat = A + I\n",
    "        D_hat = (torch.sum(A_hat, 1) + 1e-5) ** (-0.5)\n",
    "        #print('-'*40)\n",
    "        #print(batch)\n",
    "        #print(A_hat.shape)\n",
    "        #print(D_hat.shape)\n",
    "        #print(D_hat.view(batch, N, 1).shape)\n",
    "        #print('-'*40)\n",
    "        L = D_hat.view(batch, N, 1) * A_hat * D_hat.view(batch, 1, N)\n",
    "        return L\n",
    "\n",
    "    def forward(self, data):\n",
    "        x, A = data\n",
    "        \n",
    "        a = torch.bmm(self.laplacian_batch(A), x)\n",
    "        x = self.fc(a.double())\n",
    "        if self.activation is not None:\n",
    "            x = self.activation(x)\n",
    "        return (x, A)\n",
    "        \n",
    "class GCN(nn.Module):\n",
    "    '''\n",
    "    Baseline Graph Convolutional Network with a stack of Graph Convolution Layers and global pooling over nodes.\n",
    "    '''\n",
    "    def __init__(self,\n",
    "                 in_features,\n",
    "                 out_features,\n",
    "                 filters=[64,64,64],\n",
    "                 n_hidden=0,\n",
    "                 dropout=0.2,\n",
    "                 adj_sq=False,\n",
    "                 scale_identity=False):\n",
    "        super(GCN, self).__init__()\n",
    "\n",
    "        # Graph convolution layers\n",
    "        self.gconv = nn.Sequential(*([GraphConv(in_features=in_features if layer == 0 else filters[layer - 1], \n",
    "                                                out_features=f, \n",
    "                                                activation=nn.ReLU(inplace=True),\n",
    "                                                adj_sq=adj_sq,\n",
    "                                                scale_identity=scale_identity) for layer, f in enumerate(filters)]))\n",
    "        \n",
    "        # Fully connected layers\n",
    "        fc = []\n",
    "        if dropout > 0:\n",
    "            fc.append(nn.Dropout(p=dropout))\n",
    "        if n_hidden > 0:\n",
    "            fc.append(nn.Linear(filters[-1], n_hidden))\n",
    "            if dropout > 0:\n",
    "                fc.append(nn.Dropout(p=dropout))\n",
    "            n_last = n_hidden\n",
    "        else:\n",
    "            n_last = filters[-1]\n",
    "        fc.append(nn.Linear(n_last, out_features))       \n",
    "        self.fc = nn.Sequential(*fc).double()\n",
    "        \n",
    "    def forward(self, data):\n",
    "        # X, A = data\n",
    "        x = self.gconv(data)[0]\n",
    "        x = torch.max(x, dim=1)[0].squeeze()  # max pooling over nodes\n",
    "        x = self.fc(x)\n",
    "        return x "
   ]
  },
  {
   "cell_type": "code",
   "execution_count": 381,
   "metadata": {},
   "outputs": [],
   "source": [
    "model = GCN(in_features=3,\n",
    "            out_features=1,\n",
    "            n_hidden=0,\n",
    "            filters=[64,64,64],\n",
    "            dropout=0.2,\n",
    "            adj_sq=False,\n",
    "            scale_identity=False).to(device)"
   ]
  },
  {
   "cell_type": "code",
   "execution_count": 343,
   "metadata": {},
   "outputs": [
    {
     "data": {
      "text/plain": [
       "\"\\ndatareader = DataReader(data_dir='./data/%s/' % dataset.upper(),\\n                        rnd_state=np.random.RandomState(seed),\\n                        folds=n_folds,                    \\n                        use_cont_node_attr=False)\\n\\nfor split in ['train', 'test']:\\n        gdata = GraphData(fold_id=fold_id,\\n                          datareader=datareader,\\n                          split=split)\\n\\n        loader = torch.utils.data.DataLoader(gdata, \\n                                             batch_size=batch_size,\\n                                             shuffle=split.find('train') >= 0,\\n                                             num_workers=threads)\\n        loaders.append(loader)\\n\""
      ]
     },
     "execution_count": 343,
     "metadata": {},
     "output_type": "execute_result"
    }
   ],
   "source": [
    "'''\n",
    "datareader = DataReader(data_dir='./data/%s/' % dataset.upper(),\n",
    "                        rnd_state=np.random.RandomState(seed),\n",
    "                        folds=n_folds,                    \n",
    "                        use_cont_node_attr=False)\n",
    "\n",
    "for split in ['train', 'test']:\n",
    "        gdata = GraphData(fold_id=fold_id,\n",
    "                          datareader=datareader,\n",
    "                          split=split)\n",
    "\n",
    "        loader = torch.utils.data.DataLoader(gdata, \n",
    "                                             batch_size=batch_size,\n",
    "                                             shuffle=split.find('train') >= 0,\n",
    "                                             num_workers=threads)\n",
    "        loaders.append(loader)\n",
    "'''"
   ]
  },
  {
   "cell_type": "code",
   "execution_count": 344,
   "metadata": {},
   "outputs": [],
   "source": [
    "wdecay = 1e-4\n",
    "epochs = 15\n",
    "lr = 0.005\n",
    "batch_size = 5"
   ]
  },
  {
   "cell_type": "code",
   "execution_count": 382,
   "metadata": {},
   "outputs": [],
   "source": [
    "\n",
    "#train_data = [list(DATA_859[:90][i]) for i in range(len(DATA_859[:90]))]\n",
    "#test_data = [list(DATA_859[90:][i]) for i in range(len(DATA_859[90:]))]\n",
    "\n",
    "train_data = [list(newData_permut[:separator][i]) for i in range(len(newData_permut[:separator]))]\n",
    "test_data = [list(newData_permut[separator:][i]) for i in range(len(newData_permut[separator:]))]\n",
    "train_loader = torch.utils.data.DataLoader(train_data, batch_size=batch_size, shuffle=True)\n",
    "test_loader = torch.utils.data.DataLoader(test_data, batch_size=batch_size, shuffle=True)"
   ]
  },
  {
   "cell_type": "code",
   "execution_count": 318,
   "metadata": {},
   "outputs": [
    {
     "name": "stdout",
     "output_type": "stream",
     "text": [
      "('HHGG_TS4', 'GAPF_LNCC_SERVER_TS4', 'MULTICOM-CONSTRUCT_TS1', 'Distill_TS2', 'FLOUDAS_SERVER_TS1')\n"
     ]
    }
   ],
   "source": [
    "for batch_idx, data in enumerate(train_loader):\n",
    "    if batch_idx==0:\n",
    "        print(data[1])"
   ]
  },
  {
   "cell_type": "code",
   "execution_count": 383,
   "metadata": {
    "scrolled": false
   },
   "outputs": [
    {
     "name": "stdout",
     "output_type": "stream",
     "text": [
      "\n",
      "Initialize model\n",
      "GCN(\n",
      "  (gconv): Sequential(\n",
      "    (0): GraphConv(\n",
      "      (fc): Linear(in_features=3, out_features=64, bias=True)\n",
      "      (activation): ReLU(inplace=True)\n",
      "    )\n",
      "    (1): GraphConv(\n",
      "      (fc): Linear(in_features=64, out_features=64, bias=True)\n",
      "      (activation): ReLU(inplace=True)\n",
      "    )\n",
      "    (2): GraphConv(\n",
      "      (fc): Linear(in_features=64, out_features=64, bias=True)\n",
      "      (activation): ReLU(inplace=True)\n",
      "    )\n",
      "  )\n",
      "  (fc): Sequential(\n",
      "    (0): Dropout(p=0.2, inplace=False)\n",
      "    (1): Linear(in_features=64, out_features=1, bias=True)\n",
      "  )\n",
      ")\n",
      "Train Epoch: 0 [5/60 (8%)]\tLoss: 1.065127 (avg: 0.213025) \tsec/iter: 0.3499\n",
      "Train Epoch: 0 [15/60 (25%)]\tLoss: 1.301589 (avg: 0.545962) \tsec/iter: 0.3626\n",
      "Train Epoch: 0 [25/60 (42%)]\tLoss: 1.196344 (avg: 0.557684) \tsec/iter: 0.3643\n",
      "Train Epoch: 0 [35/60 (58%)]\tLoss: 5.568241 (avg: 0.566236) \tsec/iter: 0.3427\n",
      "Train Epoch: 0 [45/60 (75%)]\tLoss: 0.579070 (avg: 0.526445) \tsec/iter: 0.3349\n",
      "Train Epoch: 0 [55/60 (92%)]\tLoss: 0.161017 (avg: 0.442684) \tsec/iter: 0.3281\n",
      "Test set (epoch 0): Mean loss: 0.2611\n",
      "\n",
      "Train Epoch: 1 [5/60 (8%)]\tLoss: 0.567954 (avg: 0.113591) \tsec/iter: 0.2842\n",
      "Train Epoch: 1 [15/60 (25%)]\tLoss: 0.265354 (avg: 0.102890) \tsec/iter: 0.2906\n",
      "Train Epoch: 1 [25/60 (42%)]\tLoss: 0.258137 (avg: 0.075606) \tsec/iter: 0.2907\n",
      "Train Epoch: 1 [35/60 (58%)]\tLoss: 0.285013 (avg: 0.073287) \tsec/iter: 0.2878\n",
      "Train Epoch: 1 [45/60 (75%)]\tLoss: 0.145292 (avg: 0.070128) \tsec/iter: 0.2879\n",
      "Train Epoch: 1 [55/60 (92%)]\tLoss: 0.077622 (avg: 0.060733) \tsec/iter: 0.2880\n",
      "Test set (epoch 1): Mean loss: 0.0306\n",
      "\n",
      "Train Epoch: 2 [5/60 (8%)]\tLoss: 0.156743 (avg: 0.031349) \tsec/iter: 0.2715\n",
      "Train Epoch: 2 [15/60 (25%)]\tLoss: 0.128004 (avg: 0.040607) \tsec/iter: 0.3069\n",
      "Train Epoch: 2 [25/60 (42%)]\tLoss: 0.090317 (avg: 0.029717) \tsec/iter: 0.3292\n",
      "Train Epoch: 2 [35/60 (58%)]\tLoss: 0.215461 (avg: 0.029844) \tsec/iter: 0.3252\n",
      "Train Epoch: 2 [45/60 (75%)]\tLoss: 0.067249 (avg: 0.025841) \tsec/iter: 0.3226\n",
      "Train Epoch: 2 [55/60 (92%)]\tLoss: 0.142938 (avg: 0.024082) \tsec/iter: 0.3164\n",
      "Test set (epoch 2): Mean loss: 0.0038\n",
      "\n",
      "Train Epoch: 3 [5/60 (8%)]\tLoss: 0.038327 (avg: 0.007665) \tsec/iter: 0.3878\n",
      "Train Epoch: 3 [15/60 (25%)]\tLoss: 0.101973 (avg: 0.015885) \tsec/iter: 0.3227\n",
      "Train Epoch: 3 [25/60 (42%)]\tLoss: 0.038231 (avg: 0.012604) \tsec/iter: 0.3163\n",
      "Train Epoch: 3 [35/60 (58%)]\tLoss: 0.027159 (avg: 0.010470) \tsec/iter: 0.3077\n",
      "Train Epoch: 3 [45/60 (75%)]\tLoss: 0.024136 (avg: 0.009986) \tsec/iter: 0.3052\n",
      "Train Epoch: 3 [55/60 (92%)]\tLoss: 0.008386 (avg: 0.010075) \tsec/iter: 0.3018\n",
      "Test set (epoch 3): Mean loss: 0.0274\n",
      "\n",
      "Train Epoch: 4 [5/60 (8%)]\tLoss: 0.038703 (avg: 0.007741) \tsec/iter: 0.2779\n",
      "Train Epoch: 4 [15/60 (25%)]\tLoss: 0.015270 (avg: 0.006194) \tsec/iter: 0.2915\n",
      "Train Epoch: 4 [25/60 (42%)]\tLoss: 0.041915 (avg: 0.005982) \tsec/iter: 0.2886\n",
      "Train Epoch: 4 [35/60 (58%)]\tLoss: 0.012402 (avg: 0.005291) \tsec/iter: 0.2918\n",
      "Train Epoch: 4 [45/60 (75%)]\tLoss: 0.030125 (avg: 0.005992) \tsec/iter: 0.2968\n",
      "Train Epoch: 4 [55/60 (92%)]\tLoss: 0.018805 (avg: 0.005404) \tsec/iter: 0.2959\n",
      "Test set (epoch 4): Mean loss: 0.0153\n",
      "\n",
      "Train Epoch: 5 [5/60 (8%)]\tLoss: 0.093270 (avg: 0.018654) \tsec/iter: 0.2779\n",
      "Train Epoch: 5 [15/60 (25%)]\tLoss: 0.080677 (avg: 0.013105) \tsec/iter: 0.2841\n",
      "Train Epoch: 5 [25/60 (42%)]\tLoss: 0.018850 (avg: 0.008949) \tsec/iter: 0.2875\n",
      "Train Epoch: 5 [35/60 (58%)]\tLoss: 0.040910 (avg: 0.008488) \tsec/iter: 0.3078\n",
      "Train Epoch: 5 [45/60 (75%)]\tLoss: 0.075789 (avg: 0.008777) \tsec/iter: 0.3219\n",
      "Train Epoch: 5 [55/60 (92%)]\tLoss: 0.015283 (avg: 0.007745) \tsec/iter: 0.3158\n",
      "Test set (epoch 5): Mean loss: 0.0177\n",
      "\n",
      "Train Epoch: 6 [5/60 (8%)]\tLoss: 0.004313 (avg: 0.000863) \tsec/iter: 0.2731\n",
      "Train Epoch: 6 [15/60 (25%)]\tLoss: 0.013667 (avg: 0.004667) \tsec/iter: 0.2921\n",
      "Train Epoch: 6 [25/60 (42%)]\tLoss: 0.082270 (avg: 0.006832) \tsec/iter: 0.3127\n",
      "Train Epoch: 6 [35/60 (58%)]\tLoss: 0.002982 (avg: 0.005452) \tsec/iter: 0.3110\n",
      "Train Epoch: 6 [45/60 (75%)]\tLoss: 0.029857 (avg: 0.005363) \tsec/iter: 0.3192\n",
      "Train Epoch: 6 [55/60 (92%)]\tLoss: 0.040016 (avg: 0.005847) \tsec/iter: 0.3142\n",
      "Test set (epoch 6): Mean loss: 0.0242\n",
      "\n",
      "Train Epoch: 7 [5/60 (8%)]\tLoss: 0.029439 (avg: 0.005888) \tsec/iter: 0.2741\n",
      "Train Epoch: 7 [15/60 (25%)]\tLoss: 0.034157 (avg: 0.007921) \tsec/iter: 0.2859\n",
      "Train Epoch: 7 [25/60 (42%)]\tLoss: 0.017762 (avg: 0.007317) \tsec/iter: 0.2881\n",
      "Train Epoch: 7 [35/60 (58%)]\tLoss: 0.032229 (avg: 0.006707) \tsec/iter: 0.2868\n",
      "Train Epoch: 7 [45/60 (75%)]\tLoss: 0.022829 (avg: 0.006345) \tsec/iter: 0.2980\n",
      "Train Epoch: 7 [55/60 (92%)]\tLoss: 0.033291 (avg: 0.006177) \tsec/iter: 0.2992\n",
      "Test set (epoch 7): Mean loss: 0.0072\n",
      "\n",
      "Train Epoch: 8 [5/60 (8%)]\tLoss: 0.005882 (avg: 0.001176) \tsec/iter: 0.2715\n",
      "Train Epoch: 8 [15/60 (25%)]\tLoss: 0.025007 (avg: 0.003939) \tsec/iter: 0.2858\n",
      "Train Epoch: 8 [25/60 (42%)]\tLoss: 0.004480 (avg: 0.003200) \tsec/iter: 0.2889\n",
      "Train Epoch: 8 [35/60 (58%)]\tLoss: 0.012011 (avg: 0.002860) \tsec/iter: 0.2885\n",
      "Train Epoch: 8 [45/60 (75%)]\tLoss: 0.013590 (avg: 0.002992) \tsec/iter: 0.2908\n",
      "Train Epoch: 8 [55/60 (92%)]\tLoss: 0.016782 (avg: 0.003170) \tsec/iter: 0.2897\n",
      "Test set (epoch 8): Mean loss: 0.0038\n",
      "\n",
      "Train Epoch: 9 [5/60 (8%)]\tLoss: 0.024609 (avg: 0.004922) \tsec/iter: 0.2827\n",
      "Train Epoch: 9 [15/60 (25%)]\tLoss: 0.014822 (avg: 0.003649) \tsec/iter: 0.3018\n",
      "Train Epoch: 9 [25/60 (42%)]\tLoss: 0.013518 (avg: 0.003040) \tsec/iter: 0.2958\n",
      "Train Epoch: 9 [35/60 (58%)]\tLoss: 0.011092 (avg: 0.003113) \tsec/iter: 0.3064\n",
      "Train Epoch: 9 [45/60 (75%)]\tLoss: 0.017699 (avg: 0.002978) \tsec/iter: 0.3039\n",
      "Train Epoch: 9 [55/60 (92%)]\tLoss: 0.012104 (avg: 0.003116) \tsec/iter: 0.3058\n",
      "Test set (epoch 9): Mean loss: 0.0088\n",
      "\n"
     ]
    }
   ],
   "source": [
    "print('\\nInitialize model')\n",
    "print(model)\n",
    "epochs = 10\n",
    "\n",
    "\n",
    "optimizer = optim.Adam(\n",
    "    filter(lambda p: p.requires_grad, model.parameters()),\n",
    "    lr=lr,\n",
    "    weight_decay=wdecay,\n",
    "    betas=(0.5, 0.999))\n",
    "    \n",
    "scheduler = lr_scheduler.MultiStepLR(optimizer, [20, 30], gamma=0.1)\n",
    "\n",
    "\n",
    "def train(train_loader):\n",
    "    scheduler.step()\n",
    "    model.train()\n",
    "    start = time.time()\n",
    "    train_loss_ep = []\n",
    "    n_samples = 0\n",
    "    for batch_idx, data in enumerate(train_loader):\n",
    "        optimizer.zero_grad()\n",
    "\n",
    "        output = model(data[2:4])\n",
    "        loss = loss_fn(output, data[4])\n",
    "        loss.backward()\n",
    "        optimizer.step()\n",
    "        time_iter = time.time() - start\n",
    "        train_loss_ep.append(loss.item())\n",
    "        n_samples += len(output)\n",
    "\n",
    "        if batch_idx%2==0:\n",
    "            print('Train Epoch: {} [{}/{} ({:.0f}%)]\\tLoss: {:.6f} (avg: {:.6f}) \\tsec/iter: {:.4f}'.format(\n",
    "                epoch, n_samples, len(train_loader.dataset),\n",
    "                100. * (batch_idx + 1) / len(train_loader), loss.item(), sum(train_loss_ep) / n_samples, time_iter / (batch_idx + 1) ))\n",
    "\n",
    "    return train_loss_ep\n",
    "\n",
    "\n",
    "def test(test_loader):\n",
    "    model.eval()\n",
    "    start = time.time()\n",
    "    test_loss_ep = []\n",
    "    correct, n_samples = 0, 0\n",
    "    for batch_idx, data in enumerate(test_loader):\n",
    "        #for i in range(len(data)):\n",
    "        #    data[i] = data[i].to(device)\n",
    "       \n",
    "        \n",
    "        output = model(data[2:4])\n",
    "        loss = loss_fn(output, data[4])\n",
    "        test_loss_ep.append(loss.item())\n",
    "        n_samples += len(output)\n",
    "        #pred = output.detach().cpu().max(1, keepdim=True)[1]\n",
    "\n",
    "        #correct += pred.eq(data[4].detach().cpu().view_as(pred)).sum().item()\n",
    "\n",
    "    time_iter = time.time() - start\n",
    "\n",
    "    #test_loss /= n_samples\n",
    "\n",
    "    #acc = 100. * correct / n_samples\n",
    "    print('Test set (epoch {}): Mean loss: {:.4f}\\n'.format(epoch, \n",
    "                                                                                          np.mean(test_loss_ep)\n",
    "                                                                                              #correct, \n",
    "                                                                                              ))\n",
    "    return test_loss_ep\n",
    "\n",
    "loss_fn = torch.nn.MSELoss()\n",
    "mse_train_plot, mse_test_plot = [], []\n",
    "for epoch in range(epochs):\n",
    "    train_loss = train(train_loader)\n",
    "    mse_train_plot.append(train_loss)\n",
    "    test_loss = test(test_loader)\n",
    "    mse_test_plot.append(test_loss)\n",
    "    "
   ]
  },
  {
   "cell_type": "code",
   "execution_count": 384,
   "metadata": {},
   "outputs": [
    {
     "data": {
      "image/png": "[encoded data removed]",
      "text/plain": [
       "<Figure size 864x504 with 1 Axes>"
      ]
     },
     "metadata": {},
     "output_type": "display_data"
    }
   ],
   "source": [
    "tr = np.array(mse_train_plot).flatten()\n",
    "plt.figure(figsize=(12, 7))\n",
    "plt.plot(np.arange(len(tr))/12, tr, lw=1, linestyle='-', label='train')\n",
    "\n",
    "\n",
    "plt.xlabel('batch')\n",
    "plt.ylabel('MSE')\n",
    "plt.legend(loc=\"best\", prop={'size': 15})\n",
    "plt.show()"
   ]
  },
  {
   "cell_type": "code",
   "execution_count": 391,
   "metadata": {},
   "outputs": [
    {
     "data": {
      "text/plain": [
       "array([ 0.08333333,  0.16666667,  0.25      ,  0.33333333,  0.41666667,\n",
       "        0.5       ,  0.58333333,  0.66666667,  0.75      ,  0.83333333,\n",
       "        0.91666667,  1.        ,  1.08333333,  1.16666667,  1.25      ,\n",
       "        1.33333333,  1.41666667,  1.5       ,  1.58333333,  1.66666667,\n",
       "        1.75      ,  1.83333333,  1.91666667,  2.        ,  2.08333333,\n",
       "        2.16666667,  2.25      ,  2.33333333,  2.41666667,  2.5       ,\n",
       "        2.58333333,  2.66666667,  2.75      ,  2.83333333,  2.91666667,\n",
       "        3.        ,  3.08333333,  3.16666667,  3.25      ,  3.33333333,\n",
       "        3.41666667,  3.5       ,  3.58333333,  3.66666667,  3.75      ,\n",
       "        3.83333333,  3.91666667,  4.        ,  4.08333333,  4.16666667,\n",
       "        4.25      ,  4.33333333,  4.41666667,  4.5       ,  4.58333333,\n",
       "        4.66666667,  4.75      ,  4.83333333,  4.91666667,  5.        ,\n",
       "        5.08333333,  5.16666667,  5.25      ,  5.33333333,  5.41666667,\n",
       "        5.5       ,  5.58333333,  5.66666667,  5.75      ,  5.83333333,\n",
       "        5.91666667,  6.        ,  6.08333333,  6.16666667,  6.25      ,\n",
       "        6.33333333,  6.41666667,  6.5       ,  6.58333333,  6.66666667,\n",
       "        6.75      ,  6.83333333,  6.91666667,  7.        ,  7.08333333,\n",
       "        7.16666667,  7.25      ,  7.33333333,  7.41666667,  7.5       ,\n",
       "        7.58333333,  7.66666667,  7.75      ,  7.83333333,  7.91666667,\n",
       "        8.        ,  8.08333333,  8.16666667,  8.25      ,  8.33333333,\n",
       "        8.41666667,  8.5       ,  8.58333333,  8.66666667,  8.75      ,\n",
       "        8.83333333,  8.91666667,  9.        ,  9.08333333,  9.16666667,\n",
       "        9.25      ,  9.33333333,  9.41666667,  9.5       ,  9.58333333,\n",
       "        9.66666667,  9.75      ,  9.83333333,  9.91666667, 10.        ])"
      ]
     },
     "execution_count": 391,
     "metadata": {},
     "output_type": "execute_result"
    }
   ],
   "source": [
    "(np.arange(len(tr))+1)/12"
   ]
  },
  {
   "cell_type": "code",
   "execution_count": 394,
   "metadata": {},
   "outputs": [
    {
     "data": {
      "text/plain": [
       "array([ 0.08333333,  0.16666667,  0.25      ,  0.33333333,  0.41666667,\n",
       "        0.5       ,  0.58333333,  0.66666667,  0.75      ,  0.83333333,\n",
       "        0.91666667,  1.        ,  1.08333333,  1.16666667,  1.25      ,\n",
       "        1.33333333,  1.41666667,  1.5       ,  1.58333333,  1.66666667,\n",
       "        1.75      ,  1.83333333,  1.91666667,  2.        ,  2.08333333,\n",
       "        2.16666667,  2.25      ,  2.33333333,  2.41666667,  2.5       ,\n",
       "        2.58333333,  2.66666667,  2.75      ,  2.83333333,  2.91666667,\n",
       "        3.        ,  3.08333333,  3.16666667,  3.25      ,  3.33333333,\n",
       "        3.41666667,  3.5       ,  3.58333333,  3.66666667,  3.75      ,\n",
       "        3.83333333,  3.91666667,  4.        ,  4.08333333,  4.16666667,\n",
       "        4.25      ,  4.33333333,  4.41666667,  4.5       ,  4.58333333,\n",
       "        4.66666667,  4.75      ,  4.83333333,  4.91666667,  5.        ,\n",
       "        5.08333333,  5.16666667,  5.25      ,  5.33333333,  5.41666667,\n",
       "        5.5       ,  5.58333333,  5.66666667,  5.75      ,  5.83333333,\n",
       "        5.91666667,  6.        ,  6.08333333,  6.16666667,  6.25      ,\n",
       "        6.33333333,  6.41666667,  6.5       ,  6.58333333,  6.66666667,\n",
       "        6.75      ,  6.83333333,  6.91666667,  7.        ,  7.08333333,\n",
       "        7.16666667,  7.25      ,  7.33333333,  7.41666667,  7.5       ,\n",
       "        7.58333333,  7.66666667,  7.75      ,  7.83333333,  7.91666667,\n",
       "        8.        ,  8.08333333,  8.16666667,  8.25      ,  8.33333333,\n",
       "        8.41666667,  8.5       ,  8.58333333,  8.66666667,  8.75      ,\n",
       "        8.83333333,  8.91666667,  9.        ,  9.08333333,  9.16666667,\n",
       "        9.25      ,  9.33333333,  9.41666667,  9.5       ,  9.58333333,\n",
       "        9.66666667,  9.75      ,  9.83333333,  9.91666667, 10.        ])"
      ]
     },
     "execution_count": 394,
     "metadata": {},
     "output_type": "execute_result"
    }
   ],
   "source": [
    "((np.arange(len(tr))+1)/12)"
   ]
  },
  {
   "cell_type": "code",
   "execution_count": 402,
   "metadata": {},
   "outputs": [
    {
     "data": {
      "image/png": "[encoded data removed]",
      "text/plain": [
       "<Figure size 864x504 with 1 Axes>"
      ]
     },
     "metadata": {},
     "output_type": "display_data"
    }
   ],
   "source": [
    "tr = np.array(mse_train_plot).flatten()\n",
    "\n",
    "plt.figure(figsize=(12, 7))\n",
    "axes = plt.gca()\n",
    "axes.set_ylim([0,0.5])\n",
    "\n",
    "plt.plot((np.arange(10)+1), np.mean(mse_train_plot,1), lw=1, linestyle='-', label='train')\n",
    "plt.fill_between((np.arange(10)+1), np.mean(mse_train_plot, 1)  + np.std(mse_train_plot, 1) , \n",
    "                 np.mean(mse_train_plot, 1) - np.std(mse_train_plot, 1), \n",
    "                 alpha = 0.4)\n",
    "\n",
    "\n",
    "plt.plot(((np.arange(len(tr))+1)/12)[12:], tr[12:], lw=1, linestyle='-', label='train batches', color='orange')\n",
    "\n",
    "#plt.plot(np.arange(25), np.mean(mse_test_plot,1), lw=1, linestyle='-', label='test')\n",
    "#plt.fill_between(np.arange(25), np.mean(mse_test_plot, 1)  + np.std(mse_test_plot, 1) , \n",
    "#                 np.mean(mse_test_plot, 1) - np.std(mse_test_plot, 1), \n",
    "#                 alpha = 0.4 )\n",
    "\n",
    "plt.plot((np.arange(10)+1), np.mean(mse_test_plot,1), lw=1, linestyle='-', label='test') \n",
    "plt.fill_between((np.arange(10)+1), np.mean(mse_test_plot, 1)  + np.std(mse_test_plot, 1) , \n",
    "                 np.mean(mse_test_plot, 1) - np.std(mse_test_plot, 1), \n",
    "                 alpha = 0.4 )\n",
    "\n",
    "plt.xlabel('epoch')\n",
    "plt.ylabel('MSE')\n",
    "plt.legend(loc=\"best\", prop={'size': 15})\n",
    "plt.show()\n",
    "\n"
   ]
  },
  {
   "cell_type": "code",
   "execution_count": 321,
   "metadata": {},
   "outputs": [
    {
     "data": {
      "image/png": "[encoded data removed]",
      "text/plain": [
       "<Figure size 864x504 with 1 Axes>"
      ]
     },
     "metadata": {},
     "output_type": "display_data"
    }
   ],
   "source": [
    "plt.figure(figsize=(12, 7))\n",
    "plt.plot(np.arange(23)+2, np.mean(mse_test_plot[2:],1), lw=1, linestyle='-', label='test') \n",
    "plt.fill_between(np.arange(23)+2, np.mean(mse_test_plot[2:], 1)  + np.std(mse_test_plot[2:], 1) , \n",
    "                 np.mean(mse_test_plot[2:], 1) - np.std(mse_test_plot[2:], 1), \n",
    "                 alpha = 0.4 )\n",
    "\n",
    "plt.xlabel('epoch')\n",
    "plt.ylabel('MSE')\n",
    "plt.legend(loc=\"best\", prop={'size': 15})\n",
    "plt.show()\n",
    "\n"
   ]
  },
  {
   "cell_type": "code",
   "execution_count": null,
   "metadata": {},
   "outputs": [],
   "source": []
  },
  {
   "cell_type": "code",
   "execution_count": null,
   "metadata": {},
   "outputs": [],
   "source": []
  },
  {
   "cell_type": "markdown",
   "metadata": {},
   "source": [
    "## Graph_ConvNet_LeNet5"
   ]
  },
  {
   "cell_type": "code",
   "execution_count": 152,
   "metadata": {},
   "outputs": [],
   "source": [
    "from torch.utils.data import TensorDataset, DataLoader"
   ]
  },
  {
   "cell_type": "code",
   "execution_count": 204,
   "metadata": {},
   "outputs": [],
   "source": [
    "class Graph_ConvNet_LeNet5(nn.Module):\n",
    "    \n",
    "    def __init__(self, net_parameters):\n",
    "        \n",
    "        print('Graph ConvNet: LeNet5')\n",
    "        \n",
    "        super(Graph_ConvNet_LeNet5, self).__init__()\n",
    "        \n",
    "        # parameters\n",
    "        D, CL1_F, CL1_K, CL2_F, CL2_K, FC1_F, FC2_F = net_parameters\n",
    "        D = X_train[0].shape[0]\n",
    "        FC1Fin = CL2_F*(D//16)\n",
    "        \n",
    "        # graph CL1\n",
    "        self.cl1 = nn.Linear(CL1_K, CL1_F) \n",
    "        Fin = CL1_K; Fout = CL1_F;\n",
    "        scale = np.sqrt( 2.0/ (Fin+Fout) )\n",
    "        self.cl1.weight.data.uniform_(-scale, scale)\n",
    "        self.cl1.bias.data.fill_(0.0)\n",
    "        self.CL1_K = CL1_K; self.CL1_F = CL1_F; \n",
    "        \n",
    "        # graph CL2\n",
    "        self.cl2 = nn.Linear(CL2_K*CL1_F, CL2_F) \n",
    "        Fin = CL2_K*CL1_F; Fout = CL2_F;\n",
    "        scale = np.sqrt( 2.0/ (Fin+Fout) )\n",
    "        self.cl2.weight.data.uniform_(-scale, scale)\n",
    "        self.cl2.bias.data.fill_(0.0)\n",
    "        self.CL2_K = CL2_K; self.CL2_F = CL2_F; \n",
    "\n",
    "        # FC1\n",
    "        self.fc1 = nn.Linear(FC1Fin, FC1_F) \n",
    "        Fin = FC1Fin; Fout = FC1_F;\n",
    "        scale = np.sqrt( 2.0/ (Fin+Fout) )\n",
    "        self.fc1.weight.data.uniform_(-scale, scale)\n",
    "        self.fc1.bias.data.fill_(0.0)\n",
    "        self.FC1Fin = FC1Fin\n",
    "        \n",
    "        # FC2\n",
    "        self.fc2 = nn.Linear(FC1_F, FC2_F)\n",
    "        Fin = FC1_F; Fout = FC2_F;\n",
    "        scale = np.sqrt( 2.0/ (Fin+Fout) )\n",
    "        self.fc2.weight.data.uniform_(-scale, scale)\n",
    "        self.fc2.bias.data.fill_(0.0)\n",
    "\n",
    "        # nb of parameters\n",
    "        nb_param = CL1_K * CL1_F + CL1_F          # CL1\n",
    "        nb_param += CL2_K * CL1_F * CL2_F + CL2_F # CL2\n",
    "        nb_param += FC1Fin * FC1_F + FC1_F        # FC1\n",
    "        nb_param += FC1_F * FC2_F + FC2_F         # FC2\n",
    "        print('nb of parameters=',nb_param,'\\n')\n",
    "        \n",
    "        \n",
    "    def init_weights(self, W, Fin, Fout):\n",
    "\n",
    "        scale = np.sqrt( 2.0/ (Fin+Fout) )\n",
    "        W.uniform_(-scale, scale)\n",
    "\n",
    "        return W\n",
    "        \n",
    "        \n",
    "    def graph_conv_cheby(self, x, cl, L, lmax, Fout, K):\n",
    "\n",
    "        # parameters\n",
    "        # B = batch size\n",
    "        # V = nb vertices\n",
    "        # Fin = nb input features\n",
    "        # Fout = nb output features\n",
    "        # K = Chebyshev order & support size\n",
    "        B, V, Fin = x.size(); B, V, Fin = int(B), int(V), int(Fin) \n",
    "\n",
    "        # rescale Laplacian\n",
    "        lmax = lmax_L(L)\n",
    "        L = rescale_L(L, lmax) \n",
    "        \n",
    "        # convert scipy sparse matric L to pytorch\n",
    "        L = L.tocoo()\n",
    "        indices = np.column_stack((L.row, L.col)).T \n",
    "        indices = indices.astype(np.int64)\n",
    "        indices = torch.from_numpy(indices)\n",
    "        indices = indices.type(torch.LongTensor)\n",
    "        L_data = L.data.astype(np.float32)\n",
    "        L_data = torch.from_numpy(L_data) \n",
    "        L_data = L_data.type(torch.FloatTensor)\n",
    "        L = torch.sparse.FloatTensor(indices, L_data, torch.Size(L.shape))\n",
    "        L = Variable( L , requires_grad=False)\n",
    "        if torch.cuda.is_available():\n",
    "            L = L.cuda()\n",
    "        \n",
    "        # transform to Chebyshev basis\n",
    "        x0 = x.permute(1,2,0).contiguous()  # V x Fin x B\n",
    "        x0 = x0.view([V, Fin*B])            # V x Fin*B\n",
    "        x = x0.unsqueeze(0)                 # 1 x V x Fin*B\n",
    "        \n",
    "        def concat(x, x_):\n",
    "            x_ = x_.unsqueeze(0)            # 1 x V x Fin*B\n",
    "            return torch.cat((x, x_), 0)    # K x V x Fin*B  \n",
    "             \n",
    "        if K > 1: \n",
    "            x1 = my_sparse_mm()(L,x0)              # V x Fin*B\n",
    "            x = torch.cat((x, x1.unsqueeze(0)),0)  # 2 x V x Fin*B\n",
    "        for k in range(2, K):\n",
    "            x2 = 2 * my_sparse_mm()(L,x1) - x0  \n",
    "            x = torch.cat((x, x2.unsqueeze(0)),0)  # M x Fin*B\n",
    "            x0, x1 = x1, x2  \n",
    "        \n",
    "        x = x.view([K, V, Fin, B])           # K x V x Fin x B     \n",
    "        x = x.permute(3,1,2,0).contiguous()  # B x V x Fin x K       \n",
    "        x = x.view([B*V, Fin*K])             # B*V x Fin*K\n",
    "        \n",
    "        # Compose linearly Fin features to get Fout features\n",
    "        x = cl(x)                            # B*V x Fout  \n",
    "        x = x.view([B, V, Fout])             # B x V x Fout\n",
    "        \n",
    "        return x\n",
    "        \n",
    "        \n",
    "    # Max pooling of size p. Must be a power of 2.\n",
    "    def graph_max_pool(self, x, p): \n",
    "        if p > 1: \n",
    "            x = x.permute(0,2,1).contiguous()  # x = B x F x V\n",
    "            x = nn.MaxPool1d(p)(x)             # B x F x V/p          \n",
    "            x = x.permute(0,2,1).contiguous()  # x = B x V/p x F\n",
    "            return x  \n",
    "        else:\n",
    "            return x    \n",
    "        \n",
    "        \n",
    "    def forward(self, x, d, L, lmax):\n",
    "        \n",
    "        # graph CL1\n",
    "        x = x.unsqueeze(2) # B x V x Fin=1  \n",
    "        x = self.graph_conv_cheby(x, self.cl1, L[0], lmax[0], self.CL1_F, self.CL1_K)\n",
    "        x = F.relu(x)\n",
    "        x = self.graph_max_pool(x, 4)\n",
    "        \n",
    "        # graph CL2\n",
    "        x = self.graph_conv_cheby(x, self.cl2, L[2], lmax[2], self.CL2_F, self.CL2_K)\n",
    "        x = F.relu(x)\n",
    "        x = self.graph_max_pool(x, 4)\n",
    "        \n",
    "        # FC1\n",
    "        x = x.view(-1, self.FC1Fin)\n",
    "        x = self.fc1(x)\n",
    "        x = F.relu(x)\n",
    "        x  = nn.Dropout(d)(x)\n",
    "        \n",
    "        # FC2\n",
    "        x = self.fc2(x)\n",
    "            \n",
    "        return x\n",
    "        \n",
    "        \n",
    "    def loss(self, y, y_target, l2_regularization):\n",
    "    \n",
    "        loss = nn.CrossEntropyLoss()(y,y_target)\n",
    "\n",
    "        l2_loss = 0.0\n",
    "        for param in self.parameters():\n",
    "            data = param* param\n",
    "            l2_loss += data.sum()\n",
    "           \n",
    "        loss += 0.5* l2_regularization* l2_loss\n",
    "            \n",
    "        return loss\n",
    "    \n",
    "    \n",
    "    def update(self, lr):\n",
    "                \n",
    "        update = torch.optim.SGD( self.parameters(), lr=lr, momentum=0.9 )\n",
    "        \n",
    "        return update\n",
    "        \n",
    "        \n",
    "    def update_learning_rate(self, optimizer, lr):\n",
    "   \n",
    "        for param_group in optimizer.param_groups:\n",
    "            param_group['lr'] = lr\n",
    "\n",
    "        return optimizer\n",
    "\n",
    "    \n",
    "    def evaluation(self, y_predicted, test_l):\n",
    "    \n",
    "        _, class_predicted = torch.max(y_predicted.data, 1)\n",
    "        return 100.0* (class_predicted == test_l).sum()/ y_predicted.size(0)\n",
    "    "
   ]
  },
  {
   "cell_type": "code",
   "execution_count": 199,
   "metadata": {},
   "outputs": [
    {
     "name": "stdout",
     "output_type": "stream",
     "text": [
      "No existing network to delete\n",
      "\n"
     ]
    }
   ],
   "source": [
    "# Delete existing network if exists\n",
    "try:\n",
    "    del net\n",
    "    print('Delete existing network\\n')\n",
    "except NameError:\n",
    "    print('No existing network to delete\\n')"
   ]
  },
  {
   "cell_type": "code",
   "execution_count": 202,
   "metadata": {},
   "outputs": [
    {
     "name": "stdout",
     "output_type": "stream",
     "text": [
      "num_epochs = 20 , train_size= 60 , nb_iter= 120\n"
     ]
    }
   ],
   "source": [
    "# network parameters\n",
    "D = len(X_train[0])\n",
    "CL1_F = 32\n",
    "CL1_K = 25\n",
    "CL2_F = 64\n",
    "CL2_K = 25\n",
    "FC1_F = 512\n",
    "FC2_F = 1 # 10\n",
    "net_parameters = [D, CL1_F, CL1_K, CL2_F, CL2_K, FC1_F, FC2_F]\n",
    "\n",
    "# learning parameters\n",
    "learning_rate = 0.05\n",
    "dropout_value = 0.5\n",
    "l2_regularization = 5e-4 \n",
    "batch_size = 10\n",
    "num_epochs = 20\n",
    "train_size = X_train.shape[0]\n",
    "nb_iter = int(num_epochs * train_size) // batch_size\n",
    "print('num_epochs =',num_epochs,', train_size=',train_size,', nb_iter=',nb_iter)"
   ]
  },
  {
   "cell_type": "code",
   "execution_count": 203,
   "metadata": {},
   "outputs": [
    {
     "name": "stdout",
     "output_type": "stream",
     "text": [
      "Graph ConvNet: LeNet5\n",
      "nb of parameters= 2051969 \n",
      "\n",
      "Graph_ConvNet_LeNet5(\n",
      "  (cl1): Linear(in_features=25, out_features=32, bias=True)\n",
      "  (cl2): Linear(in_features=800, out_features=64, bias=True)\n",
      "  (fc1): Linear(in_features=3904, out_features=512, bias=True)\n",
      "  (fc2): Linear(in_features=512, out_features=1, bias=True)\n",
      ")\n"
     ]
    },
    {
     "ename": "NameError",
     "evalue": "name 'train_data' is not defined",
     "output_type": "error",
     "traceback": [
      "\u001b[0;31m---------------------------------------------------------------------------\u001b[0m",
      "\u001b[0;31mNameError\u001b[0m                                 Traceback (most recent call last)",
      "\u001b[0;32m<ipython-input-203-cadaf3eeb653>\u001b[0m in \u001b[0;36m<module>\u001b[0;34m\u001b[0m\n\u001b[1;32m     35\u001b[0m         \u001b[0;31m# extract batches\u001b[0m\u001b[0;34m\u001b[0m\u001b[0;34m\u001b[0m\u001b[0;34m\u001b[0m\u001b[0m\n\u001b[1;32m     36\u001b[0m         \u001b[0mbatch_idx\u001b[0m \u001b[0;34m=\u001b[0m \u001b[0;34m[\u001b[0m\u001b[0mindices\u001b[0m\u001b[0;34m.\u001b[0m\u001b[0mpopleft\u001b[0m\u001b[0;34m(\u001b[0m\u001b[0;34m)\u001b[0m \u001b[0;32mfor\u001b[0m \u001b[0mi\u001b[0m \u001b[0;32min\u001b[0m \u001b[0mrange\u001b[0m\u001b[0;34m(\u001b[0m\u001b[0mbatch_size\u001b[0m\u001b[0;34m)\u001b[0m\u001b[0;34m]\u001b[0m\u001b[0;34m\u001b[0m\u001b[0;34m\u001b[0m\u001b[0m\n\u001b[0;32m---> 37\u001b[0;31m         \u001b[0mtrain_x\u001b[0m\u001b[0;34m,\u001b[0m \u001b[0mtrain_y\u001b[0m \u001b[0;34m=\u001b[0m \u001b[0mtrain_data\u001b[0m\u001b[0;34m[\u001b[0m\u001b[0mbatch_idx\u001b[0m\u001b[0;34m,\u001b[0m\u001b[0;34m:\u001b[0m\u001b[0;34m]\u001b[0m\u001b[0;34m,\u001b[0m \u001b[0mtrain_labels\u001b[0m\u001b[0;34m[\u001b[0m\u001b[0mbatch_idx\u001b[0m\u001b[0;34m]\u001b[0m\u001b[0;34m\u001b[0m\u001b[0;34m\u001b[0m\u001b[0m\n\u001b[0m\u001b[1;32m     38\u001b[0m         \u001b[0mtrain_x\u001b[0m \u001b[0;34m=\u001b[0m \u001b[0mVariable\u001b[0m\u001b[0;34m(\u001b[0m \u001b[0mtorch\u001b[0m\u001b[0;34m.\u001b[0m\u001b[0mFloatTensor\u001b[0m\u001b[0;34m(\u001b[0m\u001b[0mtrain_x\u001b[0m\u001b[0;34m)\u001b[0m\u001b[0;34m.\u001b[0m\u001b[0mtype\u001b[0m\u001b[0;34m(\u001b[0m\u001b[0mdtypeFloat\u001b[0m\u001b[0;34m)\u001b[0m \u001b[0;34m,\u001b[0m \u001b[0mrequires_grad\u001b[0m\u001b[0;34m=\u001b[0m\u001b[0;32mFalse\u001b[0m\u001b[0;34m)\u001b[0m\u001b[0;34m\u001b[0m\u001b[0;34m\u001b[0m\u001b[0m\n\u001b[1;32m     39\u001b[0m         \u001b[0mtrain_y\u001b[0m \u001b[0;34m=\u001b[0m \u001b[0mtrain_y\u001b[0m\u001b[0;34m.\u001b[0m\u001b[0mastype\u001b[0m\u001b[0;34m(\u001b[0m\u001b[0mnp\u001b[0m\u001b[0;34m.\u001b[0m\u001b[0mint64\u001b[0m\u001b[0;34m)\u001b[0m\u001b[0;34m\u001b[0m\u001b[0;34m\u001b[0m\u001b[0m\n",
      "\u001b[0;31mNameError\u001b[0m: name 'train_data' is not defined"
     ]
    }
   ],
   "source": [
    "# instantiate the object net of the class \n",
    "net = Graph_ConvNet_LeNet5(net_parameters)\n",
    "if torch.cuda.is_available():\n",
    "    net.cuda()\n",
    "print(net)\n",
    "\n",
    "# Weights\n",
    "L_net = list(net.parameters())\n",
    "\n",
    "# Optimizer\n",
    "global_lr = learning_rate\n",
    "global_step = 0\n",
    "decay = 0.95\n",
    "decay_steps = train_size\n",
    "lr = learning_rate\n",
    "optimizer = net.update(lr) \n",
    "\n",
    "\n",
    "# loop over epochs\n",
    "indices = collections.deque()\n",
    "for epoch in range(num_epochs):\n",
    "\n",
    "    # reshuffle \n",
    "    indices.extend(np.random.permutation(train_size)) # rand permutation\n",
    "    \n",
    "    # reset time\n",
    "    t_start = time.time()\n",
    "    \n",
    "    # extract batches\n",
    "    running_loss = 0.0\n",
    "    running_accuray = 0\n",
    "    running_total = 0\n",
    "    while len(indices) >= batch_size:\n",
    "        \n",
    "        # extract batches\n",
    "        batch_idx = [indices.popleft() for i in range(batch_size)]\n",
    "        train_x, train_y = train_data[batch_idx,:], train_labels[batch_idx]\n",
    "        train_x = Variable( torch.FloatTensor(train_x).type(dtypeFloat) , requires_grad=False) \n",
    "        train_y = train_y.astype(np.int64)\n",
    "        train_y = torch.LongTensor(train_y).type(dtypeLong)\n",
    "        train_y = Variable( train_y , requires_grad=False) \n",
    "            \n",
    "        # Forward \n",
    "        y = net.forward(train_x, dropout_value, L, lmax)\n",
    "        loss = net.loss(y,train_y,l2_regularization) \n",
    "        loss_train = loss.data[0]\n",
    "        \n",
    "        # Accuracy\n",
    "        acc_train = net.evaluation(y,train_y.data)\n",
    "        \n",
    "        # backward\n",
    "        loss.backward()\n",
    "        \n",
    "        # Update \n",
    "        global_step += batch_size # to update learning rate\n",
    "        optimizer.step()\n",
    "        optimizer.zero_grad()\n",
    "        \n",
    "        # loss, accuracy\n",
    "        running_loss += loss_train\n",
    "        running_accuray += acc_train\n",
    "        running_total += 1\n",
    "        \n",
    "        # print        \n",
    "        if not running_total%100:\n",
    "            print('epoch= %d, i= %4d, loss(batch)= %.4f, accuray(batch)= %.2f' % (epoch+1, running_total, loss_train, acc_train))\n",
    "          \n",
    "       \n",
    "    # print \n",
    "    t_stop = time.time() - t_start\n",
    "    print('epoch= %d, loss(train)= %.3f, accuracy(train)= %.3f, time= %.3f, lr= %.5f' % \n",
    "          (epoch+1, running_loss/running_total, running_accuray/running_total, t_stop, lr))\n",
    " \n",
    "\n",
    "    # update learning rate \n",
    "    lr = global_lr * pow( decay , float(global_step// decay_steps) )\n",
    "    optimizer = net.update_learning_rate(optimizer, lr)\n",
    "    \n",
    "    \n",
    "    # Test set\n",
    "    running_accuray_test = 0\n",
    "    running_total_test = 0\n",
    "    indices_test = collections.deque()\n",
    "    indices_test.extend(range(test_data.shape[0]))\n",
    "    t_start_test = time.time()\n",
    "    while len(indices_test) >= batch_size:\n",
    "        batch_idx_test = [indices_test.popleft() for i in range(batch_size)]\n",
    "        test_x, test_y = test_data[batch_idx_test,:], test_labels[batch_idx_test]\n",
    "        test_x = Variable( torch.FloatTensor(test_x).type(dtypeFloat) , requires_grad=False) \n",
    "        y = net.forward(test_x, 0.0, L, lmax) \n",
    "        test_y = test_y.astype(np.int64)\n",
    "        test_y = torch.LongTensor(test_y).type(dtypeLong)\n",
    "        test_y = Variable( test_y , requires_grad=False) \n",
    "        acc_test = net.evaluation(y,test_y.data)\n",
    "        running_accuray_test += acc_test\n",
    "        running_total_test += 1\n",
    "    t_stop_test = time.time() - t_start_test\n",
    "    print('  accuracy(test) = %.3f %%, time= %.3f' % (running_accuray_test / running_total_test, t_stop_test))  "
   ]
  }
 ],
 "metadata": {
  "kernelspec": {
   "display_name": "Python 3",
   "language": "python",
   "name": "python3"
  },
  "language_info": {
   "codemirror_mode": {
    "name": "ipython",
    "version": 3
   },
   "file_extension": ".py",
   "mimetype": "text/x-python",
   "name": "python",
   "nbconvert_exporter": "python",
   "pygments_lexer": "ipython3",
   "version": "3.7.2"
  }
 },
 "nbformat": 4,
 "nbformat_minor": 2
}
